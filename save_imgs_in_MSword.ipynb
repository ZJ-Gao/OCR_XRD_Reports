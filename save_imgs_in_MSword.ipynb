{
 "cells": [
  {
   "cell_type": "code",
   "execution_count": 9,
   "metadata": {},
   "outputs": [],
   "source": [
    "from docx import Document\n",
    "from PIL import Image\n",
    "import io\n",
    "\n",
    "# Load the Word document\n",
    "doc_path = 'Camp Century Hawke_USU-4183B 250-355 Points.docx'  # Update with your document path\n",
    "doc = Document(doc_path)\n",
    "\n",
    "# Iterate through the document and save images\n",
    "for i, rel in enumerate(doc.part.rels.values()):\n",
    "    if \"image\" in rel.target_ref:\n",
    "        image = rel.target_part.blob\n",
    "        image_stream = io.BytesIO(image)\n",
    "        img = Image.open(image_stream)\n",
    "        img.save(f'image_{i + 1}.png')  # Save images as PNG files\n",
    "\n",
    "# Note: Update the file extension as needed based on the image type"
   ]
  }
 ],
 "metadata": {
  "kernelspec": {
   "display_name": "work",
   "language": "python",
   "name": "python3"
  },
  "language_info": {
   "codemirror_mode": {
    "name": "ipython",
    "version": 3
   },
   "file_extension": ".py",
   "mimetype": "text/x-python",
   "name": "python",
   "nbconvert_exporter": "python",
   "pygments_lexer": "ipython3",
   "version": "3.11.9"
  }
 },
 "nbformat": 4,
 "nbformat_minor": 2
}
